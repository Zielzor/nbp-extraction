{
 "cells": [
  {
   "cell_type": "code",
   "execution_count": 1,
   "id": "83018b67",
   "metadata": {},
   "outputs": [],
   "source": [
    "import pandas as pd \n",
    "import datetime as dt\n",
    "\n",
    "today = dt.date.today()"
   ]
  },
  {
   "cell_type": "code",
   "execution_count": 2,
   "id": "2734594e",
   "metadata": {},
   "outputs": [],
   "source": [
    "html = \"https://www.nbp.pl/home.aspx?f=/kursy/kursya.html\"\n",
    "df = pd.read_html(html,encoding=\"UTF-8\")\n",
    "df = df[37]"
   ]
  },
  {
   "cell_type": "code",
   "execution_count": 3,
   "id": "c5f4d9e2",
   "metadata": {},
   "outputs": [],
   "source": [
    "def decimal_fix(column):\n",
    "    if len(column) == 4:\n",
    "        return \"0.\" + column\n",
    "    else:\n",
    "        return column[0:1] +\".\"+ column[1:]"
   ]
  },
  {
   "cell_type": "code",
   "execution_count": 4,
   "id": "f068c8ab",
   "metadata": {},
   "outputs": [],
   "source": [
    "df.rename(columns = {\"Kurs średni\":\"AVG\"}, inplace=True)\n",
    "df[\"AVG\"] = df[\"AVG\"].astype(str)\n",
    "df[\"date\"] = today\n",
    "df[\"test\"] = df[\"AVG\"].apply(decimal_fix)\n",
    "df[\"test\"] = df[\"test\"].astype(float)"
   ]
  },
  {
   "cell_type": "code",
   "execution_count": 5,
   "id": "1d379f47",
   "metadata": {},
   "outputs": [],
   "source": [
    "try:\n",
    "    nbp = pd.read_csv(\"nbp.csv\")\n",
    "except FileNotFoundError:\n",
    "    df.to_csv(\"nbp.csv\",index=False)\n",
    "else:\n",
    "    full=pd.concat([nbp,df])\n",
    "    full.to_csv(\"nbp.csv\", index=False)\n"
   ]
  },
  {
   "cell_type": "code",
   "execution_count": null,
   "id": "91f72373",
   "metadata": {},
   "outputs": [],
   "source": []
  }
 ],
 "metadata": {
  "kernelspec": {
   "display_name": "Python 3.8.11 ('base')",
   "language": "python",
   "name": "python3811jvsc74a57bd0cd3db3e671eae07770d43dc8244622373e185ed8efced22e614c36a9c347dd3c"
  },
  "language_info": {
   "codemirror_mode": {
    "name": "ipython",
    "version": 3
   },
   "file_extension": ".py",
   "mimetype": "text/x-python",
   "name": "python",
   "nbconvert_exporter": "python",
   "pygments_lexer": "ipython3",
   "version": "3.8.11"
  }
 },
 "nbformat": 4,
 "nbformat_minor": 5
}
